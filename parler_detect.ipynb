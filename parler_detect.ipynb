{
 "metadata": {
  "language_info": {
   "codemirror_mode": {
    "name": "ipython",
    "version": 3
   },
   "file_extension": ".py",
   "mimetype": "text/x-python",
   "name": "python",
   "nbconvert_exporter": "python",
   "pygments_lexer": "ipython3",
   "version": "3.8.3-final"
  },
  "orig_nbformat": 2,
  "kernelspec": {
   "name": "python3",
   "display_name": "Python 3",
   "language": "python"
  }
 },
 "nbformat": 4,
 "nbformat_minor": 2,
 "cells": [
  {
   "cell_type": "code",
   "execution_count": 1,
   "metadata": {},
   "outputs": [],
   "source": [
    "import pandas as pd \n",
    "import numpy as np \n",
    "import os\n",
    "import json\n",
    "from tqdm import tqdm"
   ]
  },
  {
   "cell_type": "code",
   "execution_count": 2,
   "metadata": {},
   "outputs": [],
   "source": [
    "tqdm.pandas(desc=\"Progress\")"
   ]
  },
  {
   "cell_type": "code",
   "execution_count": 3,
   "metadata": {},
   "outputs": [],
   "source": [
    "# For the file directory assumptions to work correctly, you will need the contents of parler_posts_json.zip extracted to the directory parler_posts_json located in the same directory as this file.\n",
    "cwd = os.getcwd()\n",
    "posts_dir = cwd + '/data/parler_posts_json/'\n",
    "meta_dir = cwd + '/data/metadata/'"
   ]
  },
  {
   "cell_type": "code",
   "execution_count": 11,
   "metadata": {},
   "outputs": [
    {
     "output_type": "execute_result",
     "data": {
      "text/plain": [
       "1032524"
      ]
     },
     "metadata": {},
     "execution_count": 11
    }
   ],
   "source": [
    "len(os.listdir(meta_dir))"
   ]
  },
  {
   "source": [
    "#testfile = posts_dir + os.listdir(posts_dir)[1]\n",
    "#test = pd.read_json(testfile)\n",
    "\n",
    "frames = ['GPSLatitude',\n",
    "    'GPSLongitude',\n",
    "    'GPSAltitude',\n",
    "    'GPSDateStamp',\n",
    "    'GPSLatitudeRef',\n",
    "    'GPSLongitudeRef',\n",
    "    'GPSAltitudeRef',\n",
    "    'GPSTimeStamp',\n",
    "    'GPSTrack',\n",
    "    'GPSSpeed',\n",
    "    'GPSImgDirection',\n",
    "    'GPSPitch',\n",
    "    'GPSTrackRef',\n",
    "    'GPSSpeedRef',\n",
    "    'GPSImgDirectionRef',\n",
    "    'GPSRoll',\n",
    "    'AmbientTemperature',\n",
    "    'CameraElevationAngle',]\n",
    "\n",
    "def data_iterator(path):\n",
    "    dumbs = []\n",
    "    for record in tqdm(os.listdir(path)):\n",
    "        if record.endswith('.json'):\n",
    "            output = {'file': record}\n",
    "            try:\n",
    "                with open(meta_dir + record) as f:\n",
    "                    data = json.load(f)[0]\n",
    "                for frame in frames:\n",
    "                    if frame in data:\n",
    "                        output[frame] = data[frame]\n",
    "                if len(output.keys()) > 1:\n",
    "                    for date in ['CreateDate', 'ModifyDate']:\n",
    "                        if date in data:\n",
    "                            if not data[date] == '0000:00:00 00:00:00':\n",
    "                                output[date] = data[date]\n",
    "                    yield output\n",
    "            except:\n",
    "                print(f'** File {record} could not be handled for some dumb reason')\n",
    "                dumbs.append(record)\n",
    "metadata = pd.DataFrame(data_iterator(meta_dir))\n",
    "metadata.head()"
   ],
   "cell_type": "code",
   "metadata": {},
   "execution_count": 38,
   "outputs": [
    {
     "output_type": "stream",
     "name": "stderr",
     "text": [
      "100%|██████████| 1032524/1032524 [01:01<00:00, 16775.34it/s]\n"
     ]
    },
    {
     "output_type": "execute_result",
     "data": {
      "text/plain": [
       "                     file          GPSLatitude          GPSLongitude  \\\n",
       "0  meta-27PknKIOwHt6.json   34 deg 4' 20.64\" N   118 deg 24' 9.36\" W   \n",
       "1  meta-m3Wq53jjPnpw.json   34 deg 2' 50.28\" N  118 deg 15' 35.64\" W   \n",
       "2  meta-kpKT3stt5LXq.json   26 deg 20' 2.40\" N   80 deg 17' 41.64\" W   \n",
       "3  meta-qgU5924Q8jQh.json  33 deg 58' 57.72\" N  118 deg 12' 33.84\" W   \n",
       "4  meta-XfeRIAoVLtei.json  22 deg 21' 16.56\" S    42 deg 20' 8.52\" W   \n",
       "\n",
       "  GPSAltitude   GPSAltitudeRef           CreateDate           ModifyDate  \\\n",
       "0        78 m  Above Sea Level  2020:10:31 23:02:29  2020:10:31 23:03:28   \n",
       "1    77.904 m  Above Sea Level  2020:12:21 23:22:36  2020:12:21 23:22:42   \n",
       "2     3.848 m  Above Sea Level  2020:12:04 20:49:20  2020:12:04 20:49:35   \n",
       "3    47.735 m  Above Sea Level  2020:11:04 07:29:46  2020:11:04 07:29:46   \n",
       "4   641.108 m  Above Sea Level  2020:07:02 12:50:02  2020:07:02 12:50:24   \n",
       "\n",
       "  GPSDateStamp GPSLatitudeRef GPSLongitudeRef GPSTimeStamp GPSImgDirection  \\\n",
       "0          NaN            NaN             NaN          NaN             NaN   \n",
       "1          NaN            NaN             NaN          NaN             NaN   \n",
       "2          NaN            NaN             NaN          NaN             NaN   \n",
       "3          NaN            NaN             NaN          NaN             NaN   \n",
       "4          NaN            NaN             NaN          NaN             NaN   \n",
       "\n",
       "  GPSImgDirectionRef  GPSSpeed GPSSpeedRef  \n",
       "0                NaN       NaN         NaN  \n",
       "1                NaN       NaN         NaN  \n",
       "2                NaN       NaN         NaN  \n",
       "3                NaN       NaN         NaN  \n",
       "4                NaN       NaN         NaN  "
      ],
      "text/html": "<div>\n<style scoped>\n    .dataframe tbody tr th:only-of-type {\n        vertical-align: middle;\n    }\n\n    .dataframe tbody tr th {\n        vertical-align: top;\n    }\n\n    .dataframe thead th {\n        text-align: right;\n    }\n</style>\n<table border=\"1\" class=\"dataframe\">\n  <thead>\n    <tr style=\"text-align: right;\">\n      <th></th>\n      <th>file</th>\n      <th>GPSLatitude</th>\n      <th>GPSLongitude</th>\n      <th>GPSAltitude</th>\n      <th>GPSAltitudeRef</th>\n      <th>CreateDate</th>\n      <th>ModifyDate</th>\n      <th>GPSDateStamp</th>\n      <th>GPSLatitudeRef</th>\n      <th>GPSLongitudeRef</th>\n      <th>GPSTimeStamp</th>\n      <th>GPSImgDirection</th>\n      <th>GPSImgDirectionRef</th>\n      <th>GPSSpeed</th>\n      <th>GPSSpeedRef</th>\n    </tr>\n  </thead>\n  <tbody>\n    <tr>\n      <th>0</th>\n      <td>meta-27PknKIOwHt6.json</td>\n      <td>34 deg 4' 20.64\" N</td>\n      <td>118 deg 24' 9.36\" W</td>\n      <td>78 m</td>\n      <td>Above Sea Level</td>\n      <td>2020:10:31 23:02:29</td>\n      <td>2020:10:31 23:03:28</td>\n      <td>NaN</td>\n      <td>NaN</td>\n      <td>NaN</td>\n      <td>NaN</td>\n      <td>NaN</td>\n      <td>NaN</td>\n      <td>NaN</td>\n      <td>NaN</td>\n    </tr>\n    <tr>\n      <th>1</th>\n      <td>meta-m3Wq53jjPnpw.json</td>\n      <td>34 deg 2' 50.28\" N</td>\n      <td>118 deg 15' 35.64\" W</td>\n      <td>77.904 m</td>\n      <td>Above Sea Level</td>\n      <td>2020:12:21 23:22:36</td>\n      <td>2020:12:21 23:22:42</td>\n      <td>NaN</td>\n      <td>NaN</td>\n      <td>NaN</td>\n      <td>NaN</td>\n      <td>NaN</td>\n      <td>NaN</td>\n      <td>NaN</td>\n      <td>NaN</td>\n    </tr>\n    <tr>\n      <th>2</th>\n      <td>meta-kpKT3stt5LXq.json</td>\n      <td>26 deg 20' 2.40\" N</td>\n      <td>80 deg 17' 41.64\" W</td>\n      <td>3.848 m</td>\n      <td>Above Sea Level</td>\n      <td>2020:12:04 20:49:20</td>\n      <td>2020:12:04 20:49:35</td>\n      <td>NaN</td>\n      <td>NaN</td>\n      <td>NaN</td>\n      <td>NaN</td>\n      <td>NaN</td>\n      <td>NaN</td>\n      <td>NaN</td>\n      <td>NaN</td>\n    </tr>\n    <tr>\n      <th>3</th>\n      <td>meta-qgU5924Q8jQh.json</td>\n      <td>33 deg 58' 57.72\" N</td>\n      <td>118 deg 12' 33.84\" W</td>\n      <td>47.735 m</td>\n      <td>Above Sea Level</td>\n      <td>2020:11:04 07:29:46</td>\n      <td>2020:11:04 07:29:46</td>\n      <td>NaN</td>\n      <td>NaN</td>\n      <td>NaN</td>\n      <td>NaN</td>\n      <td>NaN</td>\n      <td>NaN</td>\n      <td>NaN</td>\n      <td>NaN</td>\n    </tr>\n    <tr>\n      <th>4</th>\n      <td>meta-XfeRIAoVLtei.json</td>\n      <td>22 deg 21' 16.56\" S</td>\n      <td>42 deg 20' 8.52\" W</td>\n      <td>641.108 m</td>\n      <td>Above Sea Level</td>\n      <td>2020:07:02 12:50:02</td>\n      <td>2020:07:02 12:50:24</td>\n      <td>NaN</td>\n      <td>NaN</td>\n      <td>NaN</td>\n      <td>NaN</td>\n      <td>NaN</td>\n      <td>NaN</td>\n      <td>NaN</td>\n      <td>NaN</td>\n    </tr>\n  </tbody>\n</table>\n</div>"
     },
     "metadata": {},
     "execution_count": 38
    }
   ]
  },
  {
   "cell_type": "code",
   "execution_count": 39,
   "metadata": {},
   "outputs": [
    {
     "output_type": "execute_result",
     "data": {
      "text/plain": [
       "                         file          GPSLatitude          GPSLongitude  \\\n",
       "0      meta-27PknKIOwHt6.json   34 deg 4' 20.64\" N   118 deg 24' 9.36\" W   \n",
       "1      meta-m3Wq53jjPnpw.json   34 deg 2' 50.28\" N  118 deg 15' 35.64\" W   \n",
       "2      meta-kpKT3stt5LXq.json   26 deg 20' 2.40\" N   80 deg 17' 41.64\" W   \n",
       "3      meta-qgU5924Q8jQh.json  33 deg 58' 57.72\" N  118 deg 12' 33.84\" W   \n",
       "4      meta-XfeRIAoVLtei.json  22 deg 21' 16.56\" S    42 deg 20' 8.52\" W   \n",
       "...                       ...                  ...                   ...   \n",
       "68463  meta-JMfLmefCzvMW.json  35 deg 12' 59.40\" S  138 deg 32' 18.96\" E   \n",
       "68464  meta-33oluYHSIrDn.json  33 deg 48' 50.04\" N  117 deg 32' 43.08\" W   \n",
       "68465  meta-pMdvwJuktYPj.json  38 deg 53' 26.52\" N    77 deg 0' 20.88\" W   \n",
       "68466  meta-50A0Fl2Fcg89.json  49 deg 10' 26.76\" N  122 deg 40' 47.64\" W   \n",
       "68467  meta-H89ZQPBBfhZA.json  39 deg 26' 52.44\" N   87 deg 24' 19.08\" W   \n",
       "\n",
       "      GPSAltitude   GPSAltitudeRef           CreateDate           ModifyDate  \\\n",
       "0            78 m  Above Sea Level  2020:10:31 23:02:29  2020:10:31 23:03:28   \n",
       "1        77.904 m  Above Sea Level  2020:12:21 23:22:36  2020:12:21 23:22:42   \n",
       "2         3.848 m  Above Sea Level  2020:12:04 20:49:20  2020:12:04 20:49:35   \n",
       "3        47.735 m  Above Sea Level  2020:11:04 07:29:46  2020:11:04 07:29:46   \n",
       "4       641.108 m  Above Sea Level  2020:07:02 12:50:02  2020:07:02 12:50:24   \n",
       "...           ...              ...                  ...                  ...   \n",
       "68463    54.644 m  Above Sea Level  2020:06:30 07:03:29  2020:06:30 07:04:01   \n",
       "68464   389.691 m  Above Sea Level  2020:07:17 09:44:45  2020:07:17 09:45:19   \n",
       "68465    28.555 m  Above Sea Level  2020:12:12 19:53:48  2020:12:12 19:55:30   \n",
       "68466    14.619 m  Above Sea Level  2020:11:25 21:05:29  2020:11:25 21:06:29   \n",
       "68467         NaN              NaN  2017:11:02 23:14:17  2017:11:03 00:53:38   \n",
       "\n",
       "      GPSDateStamp GPSLatitudeRef GPSLongitudeRef GPSTimeStamp  \\\n",
       "0              NaN            NaN             NaN          NaN   \n",
       "1              NaN            NaN             NaN          NaN   \n",
       "2              NaN            NaN             NaN          NaN   \n",
       "3              NaN            NaN             NaN          NaN   \n",
       "4              NaN            NaN             NaN          NaN   \n",
       "...            ...            ...             ...          ...   \n",
       "68463          NaN            NaN             NaN          NaN   \n",
       "68464          NaN            NaN             NaN          NaN   \n",
       "68465          NaN            NaN             NaN          NaN   \n",
       "68466          NaN            NaN             NaN          NaN   \n",
       "68467          NaN            NaN             NaN          NaN   \n",
       "\n",
       "      GPSImgDirection GPSImgDirectionRef  GPSSpeed GPSSpeedRef  \n",
       "0                 NaN                NaN       NaN         NaN  \n",
       "1                 NaN                NaN       NaN         NaN  \n",
       "2                 NaN                NaN       NaN         NaN  \n",
       "3                 NaN                NaN       NaN         NaN  \n",
       "4                 NaN                NaN       NaN         NaN  \n",
       "...               ...                ...       ...         ...  \n",
       "68463             NaN                NaN       NaN         NaN  \n",
       "68464             NaN                NaN       NaN         NaN  \n",
       "68465             NaN                NaN       NaN         NaN  \n",
       "68466             NaN                NaN       NaN         NaN  \n",
       "68467             NaN                NaN       NaN         NaN  \n",
       "\n",
       "[68468 rows x 15 columns]"
      ],
      "text/html": "<div>\n<style scoped>\n    .dataframe tbody tr th:only-of-type {\n        vertical-align: middle;\n    }\n\n    .dataframe tbody tr th {\n        vertical-align: top;\n    }\n\n    .dataframe thead th {\n        text-align: right;\n    }\n</style>\n<table border=\"1\" class=\"dataframe\">\n  <thead>\n    <tr style=\"text-align: right;\">\n      <th></th>\n      <th>file</th>\n      <th>GPSLatitude</th>\n      <th>GPSLongitude</th>\n      <th>GPSAltitude</th>\n      <th>GPSAltitudeRef</th>\n      <th>CreateDate</th>\n      <th>ModifyDate</th>\n      <th>GPSDateStamp</th>\n      <th>GPSLatitudeRef</th>\n      <th>GPSLongitudeRef</th>\n      <th>GPSTimeStamp</th>\n      <th>GPSImgDirection</th>\n      <th>GPSImgDirectionRef</th>\n      <th>GPSSpeed</th>\n      <th>GPSSpeedRef</th>\n    </tr>\n  </thead>\n  <tbody>\n    <tr>\n      <th>0</th>\n      <td>meta-27PknKIOwHt6.json</td>\n      <td>34 deg 4' 20.64\" N</td>\n      <td>118 deg 24' 9.36\" W</td>\n      <td>78 m</td>\n      <td>Above Sea Level</td>\n      <td>2020:10:31 23:02:29</td>\n      <td>2020:10:31 23:03:28</td>\n      <td>NaN</td>\n      <td>NaN</td>\n      <td>NaN</td>\n      <td>NaN</td>\n      <td>NaN</td>\n      <td>NaN</td>\n      <td>NaN</td>\n      <td>NaN</td>\n    </tr>\n    <tr>\n      <th>1</th>\n      <td>meta-m3Wq53jjPnpw.json</td>\n      <td>34 deg 2' 50.28\" N</td>\n      <td>118 deg 15' 35.64\" W</td>\n      <td>77.904 m</td>\n      <td>Above Sea Level</td>\n      <td>2020:12:21 23:22:36</td>\n      <td>2020:12:21 23:22:42</td>\n      <td>NaN</td>\n      <td>NaN</td>\n      <td>NaN</td>\n      <td>NaN</td>\n      <td>NaN</td>\n      <td>NaN</td>\n      <td>NaN</td>\n      <td>NaN</td>\n    </tr>\n    <tr>\n      <th>2</th>\n      <td>meta-kpKT3stt5LXq.json</td>\n      <td>26 deg 20' 2.40\" N</td>\n      <td>80 deg 17' 41.64\" W</td>\n      <td>3.848 m</td>\n      <td>Above Sea Level</td>\n      <td>2020:12:04 20:49:20</td>\n      <td>2020:12:04 20:49:35</td>\n      <td>NaN</td>\n      <td>NaN</td>\n      <td>NaN</td>\n      <td>NaN</td>\n      <td>NaN</td>\n      <td>NaN</td>\n      <td>NaN</td>\n      <td>NaN</td>\n    </tr>\n    <tr>\n      <th>3</th>\n      <td>meta-qgU5924Q8jQh.json</td>\n      <td>33 deg 58' 57.72\" N</td>\n      <td>118 deg 12' 33.84\" W</td>\n      <td>47.735 m</td>\n      <td>Above Sea Level</td>\n      <td>2020:11:04 07:29:46</td>\n      <td>2020:11:04 07:29:46</td>\n      <td>NaN</td>\n      <td>NaN</td>\n      <td>NaN</td>\n      <td>NaN</td>\n      <td>NaN</td>\n      <td>NaN</td>\n      <td>NaN</td>\n      <td>NaN</td>\n    </tr>\n    <tr>\n      <th>4</th>\n      <td>meta-XfeRIAoVLtei.json</td>\n      <td>22 deg 21' 16.56\" S</td>\n      <td>42 deg 20' 8.52\" W</td>\n      <td>641.108 m</td>\n      <td>Above Sea Level</td>\n      <td>2020:07:02 12:50:02</td>\n      <td>2020:07:02 12:50:24</td>\n      <td>NaN</td>\n      <td>NaN</td>\n      <td>NaN</td>\n      <td>NaN</td>\n      <td>NaN</td>\n      <td>NaN</td>\n      <td>NaN</td>\n      <td>NaN</td>\n    </tr>\n    <tr>\n      <th>...</th>\n      <td>...</td>\n      <td>...</td>\n      <td>...</td>\n      <td>...</td>\n      <td>...</td>\n      <td>...</td>\n      <td>...</td>\n      <td>...</td>\n      <td>...</td>\n      <td>...</td>\n      <td>...</td>\n      <td>...</td>\n      <td>...</td>\n      <td>...</td>\n      <td>...</td>\n    </tr>\n    <tr>\n      <th>68463</th>\n      <td>meta-JMfLmefCzvMW.json</td>\n      <td>35 deg 12' 59.40\" S</td>\n      <td>138 deg 32' 18.96\" E</td>\n      <td>54.644 m</td>\n      <td>Above Sea Level</td>\n      <td>2020:06:30 07:03:29</td>\n      <td>2020:06:30 07:04:01</td>\n      <td>NaN</td>\n      <td>NaN</td>\n      <td>NaN</td>\n      <td>NaN</td>\n      <td>NaN</td>\n      <td>NaN</td>\n      <td>NaN</td>\n      <td>NaN</td>\n    </tr>\n    <tr>\n      <th>68464</th>\n      <td>meta-33oluYHSIrDn.json</td>\n      <td>33 deg 48' 50.04\" N</td>\n      <td>117 deg 32' 43.08\" W</td>\n      <td>389.691 m</td>\n      <td>Above Sea Level</td>\n      <td>2020:07:17 09:44:45</td>\n      <td>2020:07:17 09:45:19</td>\n      <td>NaN</td>\n      <td>NaN</td>\n      <td>NaN</td>\n      <td>NaN</td>\n      <td>NaN</td>\n      <td>NaN</td>\n      <td>NaN</td>\n      <td>NaN</td>\n    </tr>\n    <tr>\n      <th>68465</th>\n      <td>meta-pMdvwJuktYPj.json</td>\n      <td>38 deg 53' 26.52\" N</td>\n      <td>77 deg 0' 20.88\" W</td>\n      <td>28.555 m</td>\n      <td>Above Sea Level</td>\n      <td>2020:12:12 19:53:48</td>\n      <td>2020:12:12 19:55:30</td>\n      <td>NaN</td>\n      <td>NaN</td>\n      <td>NaN</td>\n      <td>NaN</td>\n      <td>NaN</td>\n      <td>NaN</td>\n      <td>NaN</td>\n      <td>NaN</td>\n    </tr>\n    <tr>\n      <th>68466</th>\n      <td>meta-50A0Fl2Fcg89.json</td>\n      <td>49 deg 10' 26.76\" N</td>\n      <td>122 deg 40' 47.64\" W</td>\n      <td>14.619 m</td>\n      <td>Above Sea Level</td>\n      <td>2020:11:25 21:05:29</td>\n      <td>2020:11:25 21:06:29</td>\n      <td>NaN</td>\n      <td>NaN</td>\n      <td>NaN</td>\n      <td>NaN</td>\n      <td>NaN</td>\n      <td>NaN</td>\n      <td>NaN</td>\n      <td>NaN</td>\n    </tr>\n    <tr>\n      <th>68467</th>\n      <td>meta-H89ZQPBBfhZA.json</td>\n      <td>39 deg 26' 52.44\" N</td>\n      <td>87 deg 24' 19.08\" W</td>\n      <td>NaN</td>\n      <td>NaN</td>\n      <td>2017:11:02 23:14:17</td>\n      <td>2017:11:03 00:53:38</td>\n      <td>NaN</td>\n      <td>NaN</td>\n      <td>NaN</td>\n      <td>NaN</td>\n      <td>NaN</td>\n      <td>NaN</td>\n      <td>NaN</td>\n      <td>NaN</td>\n    </tr>\n  </tbody>\n</table>\n<p>68468 rows × 15 columns</p>\n</div>"
     },
     "metadata": {},
     "execution_count": 39
    }
   ],
   "source": [
    "metadata"
   ]
  },
  {
   "cell_type": "code",
   "execution_count": null,
   "metadata": {},
   "outputs": [],
   "source": []
  }
 ]
}