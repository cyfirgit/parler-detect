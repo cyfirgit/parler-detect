{
 "metadata": {
  "language_info": {
   "codemirror_mode": {
    "name": "ipython",
    "version": 3
   },
   "file_extension": ".py",
   "mimetype": "text/x-python",
   "name": "python",
   "nbconvert_exporter": "python",
   "pygments_lexer": "ipython3",
   "version": "3.8.3-final"
  },
  "orig_nbformat": 2,
  "kernelspec": {
   "name": "python3",
   "display_name": "Python 3",
   "language": "python"
  }
 },
 "nbformat": 4,
 "nbformat_minor": 2,
 "cells": [
  {
   "cell_type": "code",
   "execution_count": 1,
   "metadata": {},
   "outputs": [],
   "source": [
    "import pandas as pd \n",
    "import numpy as np \n",
    "import os\n",
    "import json\n",
    "import re\n",
    "from tqdm import tqdm\n",
    "from pprint import pprint\n",
    "import geopandas\n",
    "import pyproj"
   ]
  },
  {
   "cell_type": "code",
   "execution_count": 2,
   "metadata": {},
   "outputs": [],
   "source": [
    "tqdm.pandas(desc=\"Progress\")"
   ]
  },
  {
   "cell_type": "code",
   "execution_count": 3,
   "metadata": {},
   "outputs": [],
   "source": [
    "# For the file directory assumptions to work correctly, you will need the contents of parler_posts_json.zip extracted to the directory parler_posts_json located in the same directory as this file.\n",
    "cwd = os.getcwd()\n",
    "posts_dir = cwd + '/data/parler_posts_json/'\n",
    "meta_dir = cwd + '/data/metadata/'"
   ]
  },
  {
   "cell_type": "code",
   "execution_count": 4,
   "metadata": {},
   "outputs": [],
   "source": [
    "frames = [\n",
    " 'GPSPosition',\n",
    "]"
   ]
  },
  {
   "source": [
    "def data_iterator(path):\n",
    "    dumbs = []\n",
    "    for record in tqdm(os.listdir(path)):\n",
    "        if record.endswith('.json'):\n",
    "            output = {'file': record}\n",
    "            try:\n",
    "                with open(meta_dir + record) as f:\n",
    "                    data = json.load(f)[0]\n",
    "                for frame in frames:\n",
    "                    if frame in data:\n",
    "                        output[frame] = data[frame]\n",
    "                if len(output.keys()) > 1:\n",
    "                    for date in ['CreateDate', 'ModifyDate']:\n",
    "                        if date in data:\n",
    "                            if not data[date] == '0000:00:00 00:00:00':\n",
    "                                output[date] = data[date]\n",
    "                    yield output\n",
    "            except:\n",
    "                print(f'** File {record} could not be handled for some dumb reason')\n",
    "                dumbs.append(record)\n",
    "metadata = pd.DataFrame(data_iterator(meta_dir))\n",
    "metadata"
   ],
   "cell_type": "code",
   "metadata": {},
   "execution_count": 5,
   "outputs": [
    {
     "output_type": "stream",
     "name": "stderr",
     "text": [
      "100%|██████████| 1032524/1032524 [05:41<00:00, 3021.13it/s]\n"
     ]
    },
    {
     "output_type": "execute_result",
     "data": {
      "text/plain": [
       "                         file                                GPSPosition  \\\n",
       "0      meta-27PknKIOwHt6.json    34 deg 4' 20.64\" N, 118 deg 24' 9.36\" W   \n",
       "1      meta-m3Wq53jjPnpw.json   34 deg 2' 50.28\" N, 118 deg 15' 35.64\" W   \n",
       "2      meta-kpKT3stt5LXq.json    26 deg 20' 2.40\" N, 80 deg 17' 41.64\" W   \n",
       "3      meta-qgU5924Q8jQh.json  33 deg 58' 57.72\" N, 118 deg 12' 33.84\" W   \n",
       "4      meta-XfeRIAoVLtei.json    22 deg 21' 16.56\" S, 42 deg 20' 8.52\" W   \n",
       "...                       ...                                        ...   \n",
       "68441  meta-JMfLmefCzvMW.json  35 deg 12' 59.40\" S, 138 deg 32' 18.96\" E   \n",
       "68442  meta-33oluYHSIrDn.json  33 deg 48' 50.04\" N, 117 deg 32' 43.08\" W   \n",
       "68443  meta-pMdvwJuktYPj.json    38 deg 53' 26.52\" N, 77 deg 0' 20.88\" W   \n",
       "68444  meta-50A0Fl2Fcg89.json  49 deg 10' 26.76\" N, 122 deg 40' 47.64\" W   \n",
       "68445  meta-H89ZQPBBfhZA.json   39 deg 26' 52.44\" N, 87 deg 24' 19.08\" W   \n",
       "\n",
       "                CreateDate           ModifyDate  \n",
       "0      2020:10:31 23:02:29  2020:10:31 23:03:28  \n",
       "1      2020:12:21 23:22:36  2020:12:21 23:22:42  \n",
       "2      2020:12:04 20:49:20  2020:12:04 20:49:35  \n",
       "3      2020:11:04 07:29:46  2020:11:04 07:29:46  \n",
       "4      2020:07:02 12:50:02  2020:07:02 12:50:24  \n",
       "...                    ...                  ...  \n",
       "68441  2020:06:30 07:03:29  2020:06:30 07:04:01  \n",
       "68442  2020:07:17 09:44:45  2020:07:17 09:45:19  \n",
       "68443  2020:12:12 19:53:48  2020:12:12 19:55:30  \n",
       "68444  2020:11:25 21:05:29  2020:11:25 21:06:29  \n",
       "68445  2017:11:02 23:14:17  2017:11:03 00:53:38  \n",
       "\n",
       "[68446 rows x 4 columns]"
      ],
      "text/html": "<div>\n<style scoped>\n    .dataframe tbody tr th:only-of-type {\n        vertical-align: middle;\n    }\n\n    .dataframe tbody tr th {\n        vertical-align: top;\n    }\n\n    .dataframe thead th {\n        text-align: right;\n    }\n</style>\n<table border=\"1\" class=\"dataframe\">\n  <thead>\n    <tr style=\"text-align: right;\">\n      <th></th>\n      <th>file</th>\n      <th>GPSPosition</th>\n      <th>CreateDate</th>\n      <th>ModifyDate</th>\n    </tr>\n  </thead>\n  <tbody>\n    <tr>\n      <th>0</th>\n      <td>meta-27PknKIOwHt6.json</td>\n      <td>34 deg 4' 20.64\" N, 118 deg 24' 9.36\" W</td>\n      <td>2020:10:31 23:02:29</td>\n      <td>2020:10:31 23:03:28</td>\n    </tr>\n    <tr>\n      <th>1</th>\n      <td>meta-m3Wq53jjPnpw.json</td>\n      <td>34 deg 2' 50.28\" N, 118 deg 15' 35.64\" W</td>\n      <td>2020:12:21 23:22:36</td>\n      <td>2020:12:21 23:22:42</td>\n    </tr>\n    <tr>\n      <th>2</th>\n      <td>meta-kpKT3stt5LXq.json</td>\n      <td>26 deg 20' 2.40\" N, 80 deg 17' 41.64\" W</td>\n      <td>2020:12:04 20:49:20</td>\n      <td>2020:12:04 20:49:35</td>\n    </tr>\n    <tr>\n      <th>3</th>\n      <td>meta-qgU5924Q8jQh.json</td>\n      <td>33 deg 58' 57.72\" N, 118 deg 12' 33.84\" W</td>\n      <td>2020:11:04 07:29:46</td>\n      <td>2020:11:04 07:29:46</td>\n    </tr>\n    <tr>\n      <th>4</th>\n      <td>meta-XfeRIAoVLtei.json</td>\n      <td>22 deg 21' 16.56\" S, 42 deg 20' 8.52\" W</td>\n      <td>2020:07:02 12:50:02</td>\n      <td>2020:07:02 12:50:24</td>\n    </tr>\n    <tr>\n      <th>...</th>\n      <td>...</td>\n      <td>...</td>\n      <td>...</td>\n      <td>...</td>\n    </tr>\n    <tr>\n      <th>68441</th>\n      <td>meta-JMfLmefCzvMW.json</td>\n      <td>35 deg 12' 59.40\" S, 138 deg 32' 18.96\" E</td>\n      <td>2020:06:30 07:03:29</td>\n      <td>2020:06:30 07:04:01</td>\n    </tr>\n    <tr>\n      <th>68442</th>\n      <td>meta-33oluYHSIrDn.json</td>\n      <td>33 deg 48' 50.04\" N, 117 deg 32' 43.08\" W</td>\n      <td>2020:07:17 09:44:45</td>\n      <td>2020:07:17 09:45:19</td>\n    </tr>\n    <tr>\n      <th>68443</th>\n      <td>meta-pMdvwJuktYPj.json</td>\n      <td>38 deg 53' 26.52\" N, 77 deg 0' 20.88\" W</td>\n      <td>2020:12:12 19:53:48</td>\n      <td>2020:12:12 19:55:30</td>\n    </tr>\n    <tr>\n      <th>68444</th>\n      <td>meta-50A0Fl2Fcg89.json</td>\n      <td>49 deg 10' 26.76\" N, 122 deg 40' 47.64\" W</td>\n      <td>2020:11:25 21:05:29</td>\n      <td>2020:11:25 21:06:29</td>\n    </tr>\n    <tr>\n      <th>68445</th>\n      <td>meta-H89ZQPBBfhZA.json</td>\n      <td>39 deg 26' 52.44\" N, 87 deg 24' 19.08\" W</td>\n      <td>2017:11:02 23:14:17</td>\n      <td>2017:11:03 00:53:38</td>\n    </tr>\n  </tbody>\n</table>\n<p>68446 rows × 4 columns</p>\n</div>"
     },
     "metadata": {},
     "execution_count": 5
    }
   ]
  },
  {
   "cell_type": "code",
   "execution_count": 6,
   "metadata": {},
   "outputs": [
    {
     "output_type": "execute_result",
     "data": {
      "text/plain": [
       "file                   object\n",
       "GPSPosition            object\n",
       "CreateDate             object\n",
       "ModifyDate             object\n",
       "datetime       datetime64[ns]\n",
       "lat                   float64\n",
       "lon                   float64\n",
       "filename               string\n",
       "dtype: object"
      ]
     },
     "metadata": {},
     "execution_count": 6
    }
   ],
   "source": [
    "# Get the best date.  Already checked a ton of possible datetime fields and nothing gives better data than CreateDate, or if CreateDate is missing, ModifyDate.\n",
    "dates = metadata[['CreateDate', 'ModifyDate']]\n",
    "clean_createdate = (pd.to_datetime(metadata.CreateDate, errors='coerce', format='%Y:%m:%d %H:%M:%S'))\n",
    "dates['CreateDate'] = clean_createdate\n",
    "clean_modifydate = (pd.to_datetime(metadata.ModifyDate, errors='coerce', format='%Y:%m:%d %H:%M:%S'))\n",
    "dates['ModifyDate'] = clean_modifydate\n",
    "dates.CreateDate.fillna(dates.ModifyDate, inplace=True)\n",
    "metadata[['datetime']] = dates[['CreateDate']]\n",
    "\n",
    "# Convert the coordinates to decimal lat/long as floats.  Out of all geotagged data fields, GPSPosition always had the right data in the right format.\n",
    "geocoords = metadata[metadata['GPSPosition'].notna()]\n",
    "long_geo = re.compile(r'(\\d{1,3}) deg (\\d{1,2})\\' (\\d{1,2}\\.\\d{0,2})\\\" (\\w), (\\d{1,3}) deg (\\d{1,2})\\' (\\d{1,2}\\.\\d{0,2})\\\" (\\w)')\n",
    "\n",
    "def long_to_decimal(coord):\n",
    "    m = long_geo.match(coord)\n",
    "    if m:\n",
    "        latD, latM, latS, latC, lonD, lonM, lonS, lonC = m.groups()\n",
    "        if latC == \"N\":\n",
    "            latSign = 1\n",
    "        elif latC == \"S\":\n",
    "            latSign = -1\n",
    "        else:\n",
    "            print(f'{latC} is the thing that should not be!')\n",
    "        if lonC == \"E\":\n",
    "            lonSign = 1\n",
    "        elif lonC == \"W\":\n",
    "            lonSign = -1\n",
    "        else:\n",
    "            print(f'{lonC} is the thing that should not be!')\n",
    "        return (latSign * (int(latD) + int(latM) / 60 + float(latS) / 3600)), (lonSign * (int(lonD) + int(lonM) / 60 + float(lonS) / 3600))\n",
    "\n",
    "new_coords = geocoords.GPSPosition.map(long_to_decimal)\n",
    "metadata[['lat', 'lon']] = pd.DataFrame(new_coords.tolist(), index=new_coords.index)\n",
    "\n",
    "#put file names into a string because they're not somehow?\n",
    "metadata['filename'] = metadata['file'].astype('string')\n",
    "metadata.dtypes\n",
    "\n"
   ]
  },
  {
   "cell_type": "code",
   "execution_count": 7,
   "metadata": {},
   "outputs": [
    {
     "output_type": "execute_result",
     "data": {
      "text/plain": [
       "                     filename            datetime      lat       lon\n",
       "0      meta-27PknKIOwHt6.json 2020-10-31 23:02:29  34.0724 -118.4026\n",
       "1      meta-m3Wq53jjPnpw.json 2020-12-21 23:22:36  34.0473 -118.2599\n",
       "2      meta-kpKT3stt5LXq.json 2020-12-04 20:49:20  26.3340  -80.2949\n",
       "3      meta-qgU5924Q8jQh.json 2020-11-04 07:29:46  33.9827 -118.2094\n",
       "4      meta-XfeRIAoVLtei.json 2020-07-02 12:50:02 -22.3546  -42.3357\n",
       "...                       ...                 ...      ...       ...\n",
       "68441  meta-JMfLmefCzvMW.json 2020-06-30 07:03:29 -35.2165  138.5386\n",
       "68442  meta-33oluYHSIrDn.json 2020-07-17 09:44:45  33.8139 -117.5453\n",
       "68443  meta-pMdvwJuktYPj.json 2020-12-12 19:53:48  38.8907  -77.0058\n",
       "68444  meta-50A0Fl2Fcg89.json 2020-11-25 21:05:29  49.1741 -122.6799\n",
       "68445  meta-H89ZQPBBfhZA.json 2017-11-02 23:14:17  39.4479  -87.4053\n",
       "\n",
       "[68286 rows x 4 columns]"
      ],
      "text/html": "<div>\n<style scoped>\n    .dataframe tbody tr th:only-of-type {\n        vertical-align: middle;\n    }\n\n    .dataframe tbody tr th {\n        vertical-align: top;\n    }\n\n    .dataframe thead th {\n        text-align: right;\n    }\n</style>\n<table border=\"1\" class=\"dataframe\">\n  <thead>\n    <tr style=\"text-align: right;\">\n      <th></th>\n      <th>filename</th>\n      <th>datetime</th>\n      <th>lat</th>\n      <th>lon</th>\n    </tr>\n  </thead>\n  <tbody>\n    <tr>\n      <th>0</th>\n      <td>meta-27PknKIOwHt6.json</td>\n      <td>2020-10-31 23:02:29</td>\n      <td>34.0724</td>\n      <td>-118.4026</td>\n    </tr>\n    <tr>\n      <th>1</th>\n      <td>meta-m3Wq53jjPnpw.json</td>\n      <td>2020-12-21 23:22:36</td>\n      <td>34.0473</td>\n      <td>-118.2599</td>\n    </tr>\n    <tr>\n      <th>2</th>\n      <td>meta-kpKT3stt5LXq.json</td>\n      <td>2020-12-04 20:49:20</td>\n      <td>26.3340</td>\n      <td>-80.2949</td>\n    </tr>\n    <tr>\n      <th>3</th>\n      <td>meta-qgU5924Q8jQh.json</td>\n      <td>2020-11-04 07:29:46</td>\n      <td>33.9827</td>\n      <td>-118.2094</td>\n    </tr>\n    <tr>\n      <th>4</th>\n      <td>meta-XfeRIAoVLtei.json</td>\n      <td>2020-07-02 12:50:02</td>\n      <td>-22.3546</td>\n      <td>-42.3357</td>\n    </tr>\n    <tr>\n      <th>...</th>\n      <td>...</td>\n      <td>...</td>\n      <td>...</td>\n      <td>...</td>\n    </tr>\n    <tr>\n      <th>68441</th>\n      <td>meta-JMfLmefCzvMW.json</td>\n      <td>2020-06-30 07:03:29</td>\n      <td>-35.2165</td>\n      <td>138.5386</td>\n    </tr>\n    <tr>\n      <th>68442</th>\n      <td>meta-33oluYHSIrDn.json</td>\n      <td>2020-07-17 09:44:45</td>\n      <td>33.8139</td>\n      <td>-117.5453</td>\n    </tr>\n    <tr>\n      <th>68443</th>\n      <td>meta-pMdvwJuktYPj.json</td>\n      <td>2020-12-12 19:53:48</td>\n      <td>38.8907</td>\n      <td>-77.0058</td>\n    </tr>\n    <tr>\n      <th>68444</th>\n      <td>meta-50A0Fl2Fcg89.json</td>\n      <td>2020-11-25 21:05:29</td>\n      <td>49.1741</td>\n      <td>-122.6799</td>\n    </tr>\n    <tr>\n      <th>68445</th>\n      <td>meta-H89ZQPBBfhZA.json</td>\n      <td>2017-11-02 23:14:17</td>\n      <td>39.4479</td>\n      <td>-87.4053</td>\n    </tr>\n  </tbody>\n</table>\n<p>68286 rows × 4 columns</p>\n</div>"
     },
     "metadata": {},
     "execution_count": 7
    }
   ],
   "source": [
    "focus = metadata[['filename', 'datetime', 'lat', 'lon']]\n",
    "focus.dropna(inplace=True)\n",
    "focus"
   ]
  },
  {
   "cell_type": "code",
   "execution_count": 8,
   "metadata": {},
   "outputs": [
    {
     "output_type": "execute_result",
     "data": {
      "text/plain": [
       "       index                filename            datetime      lat       lon\n",
       "0          0  meta-27PknKIOwHt6.json 2020-10-31 23:02:29  34.0724 -118.4026\n",
       "1          1  meta-m3Wq53jjPnpw.json 2020-12-21 23:22:36  34.0473 -118.2599\n",
       "2          2  meta-kpKT3stt5LXq.json 2020-12-04 20:49:20  26.3340  -80.2949\n",
       "3          3  meta-qgU5924Q8jQh.json 2020-11-04 07:29:46  33.9827 -118.2094\n",
       "4          4  meta-XfeRIAoVLtei.json 2020-07-02 12:50:02 -22.3546  -42.3357\n",
       "...      ...                     ...                 ...      ...       ...\n",
       "68281  68441  meta-JMfLmefCzvMW.json 2020-06-30 07:03:29 -35.2165  138.5386\n",
       "68282  68442  meta-33oluYHSIrDn.json 2020-07-17 09:44:45  33.8139 -117.5453\n",
       "68283  68443  meta-pMdvwJuktYPj.json 2020-12-12 19:53:48  38.8907  -77.0058\n",
       "68284  68444  meta-50A0Fl2Fcg89.json 2020-11-25 21:05:29  49.1741 -122.6799\n",
       "68285  68445  meta-H89ZQPBBfhZA.json 2017-11-02 23:14:17  39.4479  -87.4053\n",
       "\n",
       "[68286 rows x 5 columns]"
      ],
      "text/html": "<div>\n<style scoped>\n    .dataframe tbody tr th:only-of-type {\n        vertical-align: middle;\n    }\n\n    .dataframe tbody tr th {\n        vertical-align: top;\n    }\n\n    .dataframe thead th {\n        text-align: right;\n    }\n</style>\n<table border=\"1\" class=\"dataframe\">\n  <thead>\n    <tr style=\"text-align: right;\">\n      <th></th>\n      <th>index</th>\n      <th>filename</th>\n      <th>datetime</th>\n      <th>lat</th>\n      <th>lon</th>\n    </tr>\n  </thead>\n  <tbody>\n    <tr>\n      <th>0</th>\n      <td>0</td>\n      <td>meta-27PknKIOwHt6.json</td>\n      <td>2020-10-31 23:02:29</td>\n      <td>34.0724</td>\n      <td>-118.4026</td>\n    </tr>\n    <tr>\n      <th>1</th>\n      <td>1</td>\n      <td>meta-m3Wq53jjPnpw.json</td>\n      <td>2020-12-21 23:22:36</td>\n      <td>34.0473</td>\n      <td>-118.2599</td>\n    </tr>\n    <tr>\n      <th>2</th>\n      <td>2</td>\n      <td>meta-kpKT3stt5LXq.json</td>\n      <td>2020-12-04 20:49:20</td>\n      <td>26.3340</td>\n      <td>-80.2949</td>\n    </tr>\n    <tr>\n      <th>3</th>\n      <td>3</td>\n      <td>meta-qgU5924Q8jQh.json</td>\n      <td>2020-11-04 07:29:46</td>\n      <td>33.9827</td>\n      <td>-118.2094</td>\n    </tr>\n    <tr>\n      <th>4</th>\n      <td>4</td>\n      <td>meta-XfeRIAoVLtei.json</td>\n      <td>2020-07-02 12:50:02</td>\n      <td>-22.3546</td>\n      <td>-42.3357</td>\n    </tr>\n    <tr>\n      <th>...</th>\n      <td>...</td>\n      <td>...</td>\n      <td>...</td>\n      <td>...</td>\n      <td>...</td>\n    </tr>\n    <tr>\n      <th>68281</th>\n      <td>68441</td>\n      <td>meta-JMfLmefCzvMW.json</td>\n      <td>2020-06-30 07:03:29</td>\n      <td>-35.2165</td>\n      <td>138.5386</td>\n    </tr>\n    <tr>\n      <th>68282</th>\n      <td>68442</td>\n      <td>meta-33oluYHSIrDn.json</td>\n      <td>2020-07-17 09:44:45</td>\n      <td>33.8139</td>\n      <td>-117.5453</td>\n    </tr>\n    <tr>\n      <th>68283</th>\n      <td>68443</td>\n      <td>meta-pMdvwJuktYPj.json</td>\n      <td>2020-12-12 19:53:48</td>\n      <td>38.8907</td>\n      <td>-77.0058</td>\n    </tr>\n    <tr>\n      <th>68284</th>\n      <td>68444</td>\n      <td>meta-50A0Fl2Fcg89.json</td>\n      <td>2020-11-25 21:05:29</td>\n      <td>49.1741</td>\n      <td>-122.6799</td>\n    </tr>\n    <tr>\n      <th>68285</th>\n      <td>68445</td>\n      <td>meta-H89ZQPBBfhZA.json</td>\n      <td>2017-11-02 23:14:17</td>\n      <td>39.4479</td>\n      <td>-87.4053</td>\n    </tr>\n  </tbody>\n</table>\n<p>68286 rows × 5 columns</p>\n</div>"
     },
     "metadata": {},
     "execution_count": 8
    }
   ],
   "source": [
    "focus = focus.reset_index()\n",
    "focus"
   ]
  },
  {
   "cell_type": "code",
   "execution_count": 9,
   "metadata": {},
   "outputs": [],
   "source": [
    "focus.to_feather(os.getcwd() + '/metadata.feather')"
   ]
  },
  {
   "cell_type": "code",
   "execution_count": null,
   "metadata": {},
   "outputs": [],
   "source": []
  }
 ]
}