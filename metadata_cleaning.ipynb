{
 "metadata": {
  "language_info": {
   "codemirror_mode": {
    "name": "ipython",
    "version": 3
   },
   "file_extension": ".py",
   "mimetype": "text/x-python",
   "name": "python",
   "nbconvert_exporter": "python",
   "pygments_lexer": "ipython3",
   "version": "3.8.3-final"
  },
  "orig_nbformat": 2,
  "kernelspec": {
   "name": "python3",
   "display_name": "Python 3",
   "language": "python"
  }
 },
 "nbformat": 4,
 "nbformat_minor": 2,
 "cells": [
  {
   "cell_type": "code",
   "execution_count": 1,
   "metadata": {},
   "outputs": [],
   "source": [
    "import pandas as pd \n",
    "import numpy as np \n",
    "import os\n",
    "import json\n",
    "import re\n",
    "from tqdm import tqdm\n",
    "from pprint import pprint\n",
    "import geopandas\n",
    "import pyproj"
   ]
  },
  {
   "cell_type": "code",
   "execution_count": 2,
   "metadata": {},
   "outputs": [],
   "source": [
    "tqdm.pandas(desc=\"Progress\")"
   ]
  },
  {
   "cell_type": "code",
   "execution_count": 3,
   "metadata": {},
   "outputs": [],
   "source": [
    "# For the file directory assumptions to work correctly, you will need the contents of parler_posts_json.zip extracted to the directory parler_posts_json located in the same directory as this file.\n",
    "cwd = os.getcwd()\n",
    "posts_dir = cwd + '/data/parler_posts_json/'\n",
    "meta_dir = cwd + '/data/metadata/'"
   ]
  },
  {
   "cell_type": "code",
   "execution_count": 4,
   "metadata": {},
   "outputs": [],
   "source": [
    "frames = [\n",
    " 'GPSPosition',\n",
    " 'FileTypeExtension',\n",
    "]"
   ]
  },
  {
   "source": [
    "def data_iterator(path):\n",
    "    dumbs = []\n",
    "    for record in tqdm(os.listdir(path)):\n",
    "        if record.endswith('.json'):\n",
    "            output = {'file': record}\n",
    "            try:\n",
    "                with open(meta_dir + record) as f:\n",
    "                    data = json.load(f)[0]\n",
    "                for frame in frames:\n",
    "                    if frame in data:\n",
    "                        output[frame] = data[frame]\n",
    "                        if frame == 'FileTypeExtension':\n",
    "                            output['mediafile'] = output['file'][5:-5] + '.' + data[frame]\n",
    "                if len(output.keys()) > 1:\n",
    "                    for date in ['CreateDate', 'ModifyDate']:\n",
    "                        if date in data:\n",
    "                            if not data[date] == '0000:00:00 00:00:00':\n",
    "                                output[date] = data[date]\n",
    "                    yield output\n",
    "            except:\n",
    "                print(f'** File {record} could not be handled for some dumb reason')\n",
    "                dumbs.append(record)\n",
    "metadata = pd.DataFrame(data_iterator(meta_dir))\n",
    "metadata"
   ],
   "cell_type": "code",
   "metadata": {
    "tags": []
   },
   "execution_count": 13,
   "outputs": [
    {
     "output_type": "stream",
     "name": "stderr",
     "text": [
      "100%|██████████| 1032524/1032524 [00:53<00:00, 19356.89it/s]\n"
     ]
    },
    {
     "output_type": "execute_result",
     "data": {
      "text/plain": [
       "                           file FileTypeExtension         mediafile  \\\n",
       "0        meta-ISVeh218verI.json               mp4  ISVeh218verI.mp4   \n",
       "1        meta-BeLykBcFbpEW.json               mp4  BeLykBcFbpEW.mp4   \n",
       "2        meta-qQqSthmGdpSn.json               mp4  qQqSthmGdpSn.mp4   \n",
       "3        meta-Aswvxy3XDKg8.json               mp4  Aswvxy3XDKg8.mp4   \n",
       "4        meta-VCnhpqvdrlT2.json               mp4  VCnhpqvdrlT2.mp4   \n",
       "...                         ...               ...               ...   \n",
       "1032518  meta-Z9XbGQZ0yfN1.json               mov  Z9XbGQZ0yfN1.mov   \n",
       "1032519  meta-00PAgCovyAN5.json               mp4  00PAgCovyAN5.mp4   \n",
       "1032520  meta-6e5v9mh7xmUW.json               mp4  6e5v9mh7xmUW.mp4   \n",
       "1032521  meta-Bjo29hOVVjxP.json               mp4  Bjo29hOVVjxP.mp4   \n",
       "1032522  meta-H89ZQPBBfhZA.json               mp4  H89ZQPBBfhZA.mp4   \n",
       "\n",
       "                  CreateDate           ModifyDate  \\\n",
       "0                        NaN                  NaN   \n",
       "1                        NaN                  NaN   \n",
       "2        2020:07:08 15:20:03  2020:07:08 15:20:03   \n",
       "3        2020:07:21 03:48:04  2020:07:21 03:48:05   \n",
       "4                        NaN                  NaN   \n",
       "...                      ...                  ...   \n",
       "1032518  2020:07:22 07:58:37  2020:07:22 07:58:37   \n",
       "1032519                  NaN                  NaN   \n",
       "1032520  2020:12:14 02:48:08  2020:12:14 02:48:08   \n",
       "1032521                  NaN                  NaN   \n",
       "1032522  2017:11:02 23:14:17  2017:11:03 00:53:38   \n",
       "\n",
       "                                      GPSPosition  \n",
       "0                                             NaN  \n",
       "1                                             NaN  \n",
       "2                                             NaN  \n",
       "3                                             NaN  \n",
       "4                                             NaN  \n",
       "...                                           ...  \n",
       "1032518                                       NaN  \n",
       "1032519                                       NaN  \n",
       "1032520                                       NaN  \n",
       "1032521                                       NaN  \n",
       "1032522  39 deg 26' 52.44\" N, 87 deg 24' 19.08\" W  \n",
       "\n",
       "[1032523 rows x 6 columns]"
      ],
      "text/html": "<div>\n<style scoped>\n    .dataframe tbody tr th:only-of-type {\n        vertical-align: middle;\n    }\n\n    .dataframe tbody tr th {\n        vertical-align: top;\n    }\n\n    .dataframe thead th {\n        text-align: right;\n    }\n</style>\n<table border=\"1\" class=\"dataframe\">\n  <thead>\n    <tr style=\"text-align: right;\">\n      <th></th>\n      <th>file</th>\n      <th>FileTypeExtension</th>\n      <th>mediafile</th>\n      <th>CreateDate</th>\n      <th>ModifyDate</th>\n      <th>GPSPosition</th>\n    </tr>\n  </thead>\n  <tbody>\n    <tr>\n      <th>0</th>\n      <td>meta-ISVeh218verI.json</td>\n      <td>mp4</td>\n      <td>ISVeh218verI.mp4</td>\n      <td>NaN</td>\n      <td>NaN</td>\n      <td>NaN</td>\n    </tr>\n    <tr>\n      <th>1</th>\n      <td>meta-BeLykBcFbpEW.json</td>\n      <td>mp4</td>\n      <td>BeLykBcFbpEW.mp4</td>\n      <td>NaN</td>\n      <td>NaN</td>\n      <td>NaN</td>\n    </tr>\n    <tr>\n      <th>2</th>\n      <td>meta-qQqSthmGdpSn.json</td>\n      <td>mp4</td>\n      <td>qQqSthmGdpSn.mp4</td>\n      <td>2020:07:08 15:20:03</td>\n      <td>2020:07:08 15:20:03</td>\n      <td>NaN</td>\n    </tr>\n    <tr>\n      <th>3</th>\n      <td>meta-Aswvxy3XDKg8.json</td>\n      <td>mp4</td>\n      <td>Aswvxy3XDKg8.mp4</td>\n      <td>2020:07:21 03:48:04</td>\n      <td>2020:07:21 03:48:05</td>\n      <td>NaN</td>\n    </tr>\n    <tr>\n      <th>4</th>\n      <td>meta-VCnhpqvdrlT2.json</td>\n      <td>mp4</td>\n      <td>VCnhpqvdrlT2.mp4</td>\n      <td>NaN</td>\n      <td>NaN</td>\n      <td>NaN</td>\n    </tr>\n    <tr>\n      <th>...</th>\n      <td>...</td>\n      <td>...</td>\n      <td>...</td>\n      <td>...</td>\n      <td>...</td>\n      <td>...</td>\n    </tr>\n    <tr>\n      <th>1032518</th>\n      <td>meta-Z9XbGQZ0yfN1.json</td>\n      <td>mov</td>\n      <td>Z9XbGQZ0yfN1.mov</td>\n      <td>2020:07:22 07:58:37</td>\n      <td>2020:07:22 07:58:37</td>\n      <td>NaN</td>\n    </tr>\n    <tr>\n      <th>1032519</th>\n      <td>meta-00PAgCovyAN5.json</td>\n      <td>mp4</td>\n      <td>00PAgCovyAN5.mp4</td>\n      <td>NaN</td>\n      <td>NaN</td>\n      <td>NaN</td>\n    </tr>\n    <tr>\n      <th>1032520</th>\n      <td>meta-6e5v9mh7xmUW.json</td>\n      <td>mp4</td>\n      <td>6e5v9mh7xmUW.mp4</td>\n      <td>2020:12:14 02:48:08</td>\n      <td>2020:12:14 02:48:08</td>\n      <td>NaN</td>\n    </tr>\n    <tr>\n      <th>1032521</th>\n      <td>meta-Bjo29hOVVjxP.json</td>\n      <td>mp4</td>\n      <td>Bjo29hOVVjxP.mp4</td>\n      <td>NaN</td>\n      <td>NaN</td>\n      <td>NaN</td>\n    </tr>\n    <tr>\n      <th>1032522</th>\n      <td>meta-H89ZQPBBfhZA.json</td>\n      <td>mp4</td>\n      <td>H89ZQPBBfhZA.mp4</td>\n      <td>2017:11:02 23:14:17</td>\n      <td>2017:11:03 00:53:38</td>\n      <td>39 deg 26' 52.44\" N, 87 deg 24' 19.08\" W</td>\n    </tr>\n  </tbody>\n</table>\n<p>1032523 rows × 6 columns</p>\n</div>"
     },
     "metadata": {},
     "execution_count": 13
    }
   ]
  },
  {
   "cell_type": "code",
   "execution_count": 14,
   "metadata": {},
   "outputs": [
    {
     "output_type": "execute_result",
     "data": {
      "text/plain": [
       "file                         object\n",
       "FileTypeExtension            object\n",
       "mediafile                    object\n",
       "CreateDate                   object\n",
       "ModifyDate                   object\n",
       "GPSPosition                  object\n",
       "datetime             datetime64[ns]\n",
       "lat                         float64\n",
       "lon                         float64\n",
       "filename                     string\n",
       "medianame                    string\n",
       "dtype: object"
      ]
     },
     "metadata": {},
     "execution_count": 14
    }
   ],
   "source": [
    "# Get the best date.  Already checked a ton of possible datetime fields and nothing gives better data than CreateDate, or if CreateDate is missing, ModifyDate.\n",
    "dates = metadata[['CreateDate', 'ModifyDate']]\n",
    "clean_createdate = (pd.to_datetime(metadata.CreateDate, errors='coerce', format='%Y:%m:%d %H:%M:%S'))\n",
    "dates['CreateDate'] = clean_createdate\n",
    "clean_modifydate = (pd.to_datetime(metadata.ModifyDate, errors='coerce', format='%Y:%m:%d %H:%M:%S'))\n",
    "dates['ModifyDate'] = clean_modifydate\n",
    "dates.CreateDate.fillna(dates.ModifyDate, inplace=True)\n",
    "metadata[['datetime']] = dates[['CreateDate']]\n",
    "\n",
    "# Convert the coordinates to decimal lat/long as floats.  Out of all geotagged data fields, GPSPosition always had the right data in the right format.\n",
    "geocoords = metadata[metadata['GPSPosition'].notna()]\n",
    "long_geo = re.compile(r'(\\d{1,3}) deg (\\d{1,2})\\' (\\d{1,2}\\.\\d{0,2})\\\" (\\w), (\\d{1,3}) deg (\\d{1,2})\\' (\\d{1,2}\\.\\d{0,2})\\\" (\\w)')\n",
    "\n",
    "def long_to_decimal(coord):\n",
    "    m = long_geo.match(coord)\n",
    "    if m:\n",
    "        latD, latM, latS, latC, lonD, lonM, lonS, lonC = m.groups()\n",
    "        if latC == \"N\":\n",
    "            latSign = 1\n",
    "        elif latC == \"S\":\n",
    "            latSign = -1\n",
    "        else:\n",
    "            print(f'{latC} is the thing that should not be!')\n",
    "        if lonC == \"E\":\n",
    "            lonSign = 1\n",
    "        elif lonC == \"W\":\n",
    "            lonSign = -1\n",
    "        else:\n",
    "            print(f'{lonC} is the thing that should not be!')\n",
    "        return (latSign * (int(latD) + int(latM) / 60 + float(latS) / 3600)), (lonSign * (int(lonD) + int(lonM) / 60 + float(lonS) / 3600))\n",
    "\n",
    "new_coords = geocoords.GPSPosition.map(long_to_decimal)\n",
    "metadata[['lat', 'lon']] = pd.DataFrame(new_coords.tolist(), index=new_coords.index)\n",
    "\n",
    "#put file names into a string because they're not somehow?\n",
    "metadata['filename'] = metadata['file'].astype('string')\n",
    "metadata.dtypes\n",
    "\n",
    "\n",
    "metadata['medianame'] = metadata['mediafile'].astype('string')\n",
    "metadata.dtypes\n",
    "\n",
    "\n"
   ]
  },
  {
   "cell_type": "code",
   "execution_count": 15,
   "metadata": {},
   "outputs": [
    {
     "output_type": "execute_result",
     "data": {
      "text/plain": [
       "                       filename         medianame            datetime  \\\n",
       "12       meta-27PknKIOwHt6.json  27PknKIOwHt6.mov 2020-10-31 23:02:29   \n",
       "48       meta-m3Wq53jjPnpw.json  m3Wq53jjPnpw.mov 2020-12-21 23:22:36   \n",
       "69       meta-kpKT3stt5LXq.json  kpKT3stt5LXq.mov 2020-12-04 20:49:20   \n",
       "100      meta-qgU5924Q8jQh.json  qgU5924Q8jQh.mov 2020-11-04 07:29:46   \n",
       "103      meta-XfeRIAoVLtei.json  XfeRIAoVLtei.mov 2020-07-02 12:50:02   \n",
       "...                         ...               ...                 ...   \n",
       "1032448  meta-JMfLmefCzvMW.json  JMfLmefCzvMW.mov 2020-06-30 07:03:29   \n",
       "1032456  meta-33oluYHSIrDn.json  33oluYHSIrDn.mov 2020-07-17 09:44:45   \n",
       "1032501  meta-pMdvwJuktYPj.json  pMdvwJuktYPj.mov 2020-12-12 19:53:48   \n",
       "1032510  meta-50A0Fl2Fcg89.json  50A0Fl2Fcg89.mov 2020-11-25 21:05:29   \n",
       "1032522  meta-H89ZQPBBfhZA.json  H89ZQPBBfhZA.mp4 2017-11-02 23:14:17   \n",
       "\n",
       "             lat       lon  \n",
       "12       34.0724 -118.4026  \n",
       "48       34.0473 -118.2599  \n",
       "69       26.3340  -80.2949  \n",
       "100      33.9827 -118.2094  \n",
       "103     -22.3546  -42.3357  \n",
       "...          ...       ...  \n",
       "1032448 -35.2165  138.5386  \n",
       "1032456  33.8139 -117.5453  \n",
       "1032501  38.8907  -77.0058  \n",
       "1032510  49.1741 -122.6799  \n",
       "1032522  39.4479  -87.4053  \n",
       "\n",
       "[68286 rows x 5 columns]"
      ],
      "text/html": "<div>\n<style scoped>\n    .dataframe tbody tr th:only-of-type {\n        vertical-align: middle;\n    }\n\n    .dataframe tbody tr th {\n        vertical-align: top;\n    }\n\n    .dataframe thead th {\n        text-align: right;\n    }\n</style>\n<table border=\"1\" class=\"dataframe\">\n  <thead>\n    <tr style=\"text-align: right;\">\n      <th></th>\n      <th>filename</th>\n      <th>medianame</th>\n      <th>datetime</th>\n      <th>lat</th>\n      <th>lon</th>\n    </tr>\n  </thead>\n  <tbody>\n    <tr>\n      <th>12</th>\n      <td>meta-27PknKIOwHt6.json</td>\n      <td>27PknKIOwHt6.mov</td>\n      <td>2020-10-31 23:02:29</td>\n      <td>34.0724</td>\n      <td>-118.4026</td>\n    </tr>\n    <tr>\n      <th>48</th>\n      <td>meta-m3Wq53jjPnpw.json</td>\n      <td>m3Wq53jjPnpw.mov</td>\n      <td>2020-12-21 23:22:36</td>\n      <td>34.0473</td>\n      <td>-118.2599</td>\n    </tr>\n    <tr>\n      <th>69</th>\n      <td>meta-kpKT3stt5LXq.json</td>\n      <td>kpKT3stt5LXq.mov</td>\n      <td>2020-12-04 20:49:20</td>\n      <td>26.3340</td>\n      <td>-80.2949</td>\n    </tr>\n    <tr>\n      <th>100</th>\n      <td>meta-qgU5924Q8jQh.json</td>\n      <td>qgU5924Q8jQh.mov</td>\n      <td>2020-11-04 07:29:46</td>\n      <td>33.9827</td>\n      <td>-118.2094</td>\n    </tr>\n    <tr>\n      <th>103</th>\n      <td>meta-XfeRIAoVLtei.json</td>\n      <td>XfeRIAoVLtei.mov</td>\n      <td>2020-07-02 12:50:02</td>\n      <td>-22.3546</td>\n      <td>-42.3357</td>\n    </tr>\n    <tr>\n      <th>...</th>\n      <td>...</td>\n      <td>...</td>\n      <td>...</td>\n      <td>...</td>\n      <td>...</td>\n    </tr>\n    <tr>\n      <th>1032448</th>\n      <td>meta-JMfLmefCzvMW.json</td>\n      <td>JMfLmefCzvMW.mov</td>\n      <td>2020-06-30 07:03:29</td>\n      <td>-35.2165</td>\n      <td>138.5386</td>\n    </tr>\n    <tr>\n      <th>1032456</th>\n      <td>meta-33oluYHSIrDn.json</td>\n      <td>33oluYHSIrDn.mov</td>\n      <td>2020-07-17 09:44:45</td>\n      <td>33.8139</td>\n      <td>-117.5453</td>\n    </tr>\n    <tr>\n      <th>1032501</th>\n      <td>meta-pMdvwJuktYPj.json</td>\n      <td>pMdvwJuktYPj.mov</td>\n      <td>2020-12-12 19:53:48</td>\n      <td>38.8907</td>\n      <td>-77.0058</td>\n    </tr>\n    <tr>\n      <th>1032510</th>\n      <td>meta-50A0Fl2Fcg89.json</td>\n      <td>50A0Fl2Fcg89.mov</td>\n      <td>2020-11-25 21:05:29</td>\n      <td>49.1741</td>\n      <td>-122.6799</td>\n    </tr>\n    <tr>\n      <th>1032522</th>\n      <td>meta-H89ZQPBBfhZA.json</td>\n      <td>H89ZQPBBfhZA.mp4</td>\n      <td>2017-11-02 23:14:17</td>\n      <td>39.4479</td>\n      <td>-87.4053</td>\n    </tr>\n  </tbody>\n</table>\n<p>68286 rows × 5 columns</p>\n</div>"
     },
     "metadata": {},
     "execution_count": 15
    }
   ],
   "source": [
    "focus = metadata[['filename', 'medianame', 'datetime', 'lat', 'lon']]\n",
    "focus.dropna(inplace=True)\n",
    "focus"
   ]
  },
  {
   "cell_type": "code",
   "execution_count": 16,
   "metadata": {},
   "outputs": [
    {
     "output_type": "execute_result",
     "data": {
      "text/plain": [
       "         index                filename         medianame            datetime  \\\n",
       "0           12  meta-27PknKIOwHt6.json  27PknKIOwHt6.mov 2020-10-31 23:02:29   \n",
       "1           48  meta-m3Wq53jjPnpw.json  m3Wq53jjPnpw.mov 2020-12-21 23:22:36   \n",
       "2           69  meta-kpKT3stt5LXq.json  kpKT3stt5LXq.mov 2020-12-04 20:49:20   \n",
       "3          100  meta-qgU5924Q8jQh.json  qgU5924Q8jQh.mov 2020-11-04 07:29:46   \n",
       "4          103  meta-XfeRIAoVLtei.json  XfeRIAoVLtei.mov 2020-07-02 12:50:02   \n",
       "...        ...                     ...               ...                 ...   \n",
       "68281  1032448  meta-JMfLmefCzvMW.json  JMfLmefCzvMW.mov 2020-06-30 07:03:29   \n",
       "68282  1032456  meta-33oluYHSIrDn.json  33oluYHSIrDn.mov 2020-07-17 09:44:45   \n",
       "68283  1032501  meta-pMdvwJuktYPj.json  pMdvwJuktYPj.mov 2020-12-12 19:53:48   \n",
       "68284  1032510  meta-50A0Fl2Fcg89.json  50A0Fl2Fcg89.mov 2020-11-25 21:05:29   \n",
       "68285  1032522  meta-H89ZQPBBfhZA.json  H89ZQPBBfhZA.mp4 2017-11-02 23:14:17   \n",
       "\n",
       "           lat       lon  \n",
       "0      34.0724 -118.4026  \n",
       "1      34.0473 -118.2599  \n",
       "2      26.3340  -80.2949  \n",
       "3      33.9827 -118.2094  \n",
       "4     -22.3546  -42.3357  \n",
       "...        ...       ...  \n",
       "68281 -35.2165  138.5386  \n",
       "68282  33.8139 -117.5453  \n",
       "68283  38.8907  -77.0058  \n",
       "68284  49.1741 -122.6799  \n",
       "68285  39.4479  -87.4053  \n",
       "\n",
       "[68286 rows x 6 columns]"
      ],
      "text/html": "<div>\n<style scoped>\n    .dataframe tbody tr th:only-of-type {\n        vertical-align: middle;\n    }\n\n    .dataframe tbody tr th {\n        vertical-align: top;\n    }\n\n    .dataframe thead th {\n        text-align: right;\n    }\n</style>\n<table border=\"1\" class=\"dataframe\">\n  <thead>\n    <tr style=\"text-align: right;\">\n      <th></th>\n      <th>index</th>\n      <th>filename</th>\n      <th>medianame</th>\n      <th>datetime</th>\n      <th>lat</th>\n      <th>lon</th>\n    </tr>\n  </thead>\n  <tbody>\n    <tr>\n      <th>0</th>\n      <td>12</td>\n      <td>meta-27PknKIOwHt6.json</td>\n      <td>27PknKIOwHt6.mov</td>\n      <td>2020-10-31 23:02:29</td>\n      <td>34.0724</td>\n      <td>-118.4026</td>\n    </tr>\n    <tr>\n      <th>1</th>\n      <td>48</td>\n      <td>meta-m3Wq53jjPnpw.json</td>\n      <td>m3Wq53jjPnpw.mov</td>\n      <td>2020-12-21 23:22:36</td>\n      <td>34.0473</td>\n      <td>-118.2599</td>\n    </tr>\n    <tr>\n      <th>2</th>\n      <td>69</td>\n      <td>meta-kpKT3stt5LXq.json</td>\n      <td>kpKT3stt5LXq.mov</td>\n      <td>2020-12-04 20:49:20</td>\n      <td>26.3340</td>\n      <td>-80.2949</td>\n    </tr>\n    <tr>\n      <th>3</th>\n      <td>100</td>\n      <td>meta-qgU5924Q8jQh.json</td>\n      <td>qgU5924Q8jQh.mov</td>\n      <td>2020-11-04 07:29:46</td>\n      <td>33.9827</td>\n      <td>-118.2094</td>\n    </tr>\n    <tr>\n      <th>4</th>\n      <td>103</td>\n      <td>meta-XfeRIAoVLtei.json</td>\n      <td>XfeRIAoVLtei.mov</td>\n      <td>2020-07-02 12:50:02</td>\n      <td>-22.3546</td>\n      <td>-42.3357</td>\n    </tr>\n    <tr>\n      <th>...</th>\n      <td>...</td>\n      <td>...</td>\n      <td>...</td>\n      <td>...</td>\n      <td>...</td>\n      <td>...</td>\n    </tr>\n    <tr>\n      <th>68281</th>\n      <td>1032448</td>\n      <td>meta-JMfLmefCzvMW.json</td>\n      <td>JMfLmefCzvMW.mov</td>\n      <td>2020-06-30 07:03:29</td>\n      <td>-35.2165</td>\n      <td>138.5386</td>\n    </tr>\n    <tr>\n      <th>68282</th>\n      <td>1032456</td>\n      <td>meta-33oluYHSIrDn.json</td>\n      <td>33oluYHSIrDn.mov</td>\n      <td>2020-07-17 09:44:45</td>\n      <td>33.8139</td>\n      <td>-117.5453</td>\n    </tr>\n    <tr>\n      <th>68283</th>\n      <td>1032501</td>\n      <td>meta-pMdvwJuktYPj.json</td>\n      <td>pMdvwJuktYPj.mov</td>\n      <td>2020-12-12 19:53:48</td>\n      <td>38.8907</td>\n      <td>-77.0058</td>\n    </tr>\n    <tr>\n      <th>68284</th>\n      <td>1032510</td>\n      <td>meta-50A0Fl2Fcg89.json</td>\n      <td>50A0Fl2Fcg89.mov</td>\n      <td>2020-11-25 21:05:29</td>\n      <td>49.1741</td>\n      <td>-122.6799</td>\n    </tr>\n    <tr>\n      <th>68285</th>\n      <td>1032522</td>\n      <td>meta-H89ZQPBBfhZA.json</td>\n      <td>H89ZQPBBfhZA.mp4</td>\n      <td>2017-11-02 23:14:17</td>\n      <td>39.4479</td>\n      <td>-87.4053</td>\n    </tr>\n  </tbody>\n</table>\n<p>68286 rows × 6 columns</p>\n</div>"
     },
     "metadata": {},
     "execution_count": 16
    }
   ],
   "source": [
    "focus = focus.reset_index()\n",
    "focus"
   ]
  },
  {
   "cell_type": "code",
   "execution_count": 17,
   "metadata": {},
   "outputs": [],
   "source": [
    "focus.to_feather(os.getcwd() + '/metadata.feather')"
   ]
  },
  {
   "cell_type": "code",
   "execution_count": null,
   "metadata": {},
   "outputs": [],
   "source": []
  }
 ]
}